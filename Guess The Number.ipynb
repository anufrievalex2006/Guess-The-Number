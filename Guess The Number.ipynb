{
 "cells": [
  {
   "cell_type": "code",
   "execution_count": 1,
   "metadata": {},
   "outputs": [],
   "source": [
    "import random as r\n",
    "\n",
    "def user(x: int):\n",
    "    num = r.randint(1, x)\n",
    "    g = 0; tries = 0\n",
    "    while g != num:\n",
    "        g = int(input())\n",
    "        if g > num:\n",
    "            print('Incorrect. Too big.')\n",
    "            tries += 1\n",
    "        if g < num:\n",
    "            print('Incorrect. Too small.')\n",
    "            tries += 1\n",
    "    print(f'You won after {tries} tries!')\n",
    "    pass\n",
    "\n",
    "def computer(x: int):\n",
    "    l = 1; h = x\n",
    "    gc = 0; tries = 0\n",
    "    while gc != x:\n",
    "        gc = r.randint(l, h)\n",
    "        if gc == x:\n",
    "            print(f'It is number {x}! (tries = {tries})')\n",
    "            break\n",
    "\n",
    "        f = input(f'Is {gc} too high (H) or too low (L)?'.lower())\n",
    "        if f == 'l':\n",
    "            l = gc + 1\n",
    "            tries += 1\n",
    "        if f == 'h':\n",
    "            h = gc - 1\n",
    "            tries += 1"
   ]
  }
 ],
 "metadata": {
  "kernelspec": {
   "display_name": "Python 3.10.8 64-bit",
   "language": "python",
   "name": "python3"
  },
  "language_info": {
   "codemirror_mode": {
    "name": "ipython",
    "version": 3
   },
   "file_extension": ".py",
   "mimetype": "text/x-python",
   "name": "python",
   "nbconvert_exporter": "python",
   "pygments_lexer": "ipython3",
   "version": "3.10.8"
  },
  "orig_nbformat": 4,
  "vscode": {
   "interpreter": {
    "hash": "89191e5152c14131d63ef677399fda6ea16f2e8b1aa10ea78b4684597b6cb342"
   }
  }
 },
 "nbformat": 4,
 "nbformat_minor": 2
}
